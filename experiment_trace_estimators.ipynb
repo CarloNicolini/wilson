{
 "cells": [
  {
   "cell_type": "code",
   "execution_count": null,
   "metadata": {},
   "outputs": [],
   "source": [
    "%reload_ext autoreload\n",
    "%autoreload 2\n",
    "\n",
    "import numpy as np\n",
    "import networkx as nx\n",
    "import sys\n",
    "sys.path.append('/home/carlo/workspace/networkqit')\n",
    "import matplotlib.pyplot as plt\n",
    "import networkqit as nq\n",
    "import random\n",
    "import matplotlib\n",
    "from wilson2 import Wilson, draw_sampling, trace_estimator"
   ]
  },
  {
   "cell_type": "code",
   "execution_count": null,
   "metadata": {},
   "outputs": [],
   "source": [
    "import matplotlib2tikz"
   ]
  },
  {
   "cell_type": "code",
   "execution_count": null,
   "metadata": {},
   "outputs": [],
   "source": [
    "G = nx.from_numpy_array(nx.to_numpy_array(nx.grid_2d_graph(15,15)))\n",
    "fig, ax = plt.subplots(figsize=(20,20))\n",
    "q = 1E-1\n",
    "draw_sampling(G, *Wilson(G,q=q).sample(),ax=ax,cmap = matplotlib.cm.get_cmap('Paired'))\n",
    "fig.savefig('grid_15_15_wilson_q_01.png')\n",
    "#matplotlib2tikz.save('grid_10_6_wilson_q_%.3f.tex' % q)"
   ]
  },
  {
   "cell_type": "code",
   "execution_count": null,
   "metadata": {},
   "outputs": [],
   "source": [
    "q = 0.1    \n",
    "W = Wilson(G, q=q)\n",
    "F,roots = W.sample()\n",
    "trace_estimator(G)\n",
    "plt.savefig('trace_estimator.png')"
   ]
  },
  {
   "cell_type": "code",
   "execution_count": null,
   "metadata": {},
   "outputs": [],
   "source": [
    "G = nx.ring_of_cliques(5, 10)\n",
    "L = nx.laplacian_matrix(G).toarray()\n",
    "lambdai = np.linalg.eigvalsh(L)\n",
    "reps = 5\n",
    "\n",
    "beta_range = np.logspace(-3, 3, 75)\n",
    "\n",
    "num_trees = [np.sum(q/(q+lambdai)) for q in beta_range]\n",
    "num_trees_wilson = [np.mean([len(Wilson(G,q=1/q).sample()[1]) for _ in range(reps)]) for q in beta_range]\n",
    "entropy_tree_size = [np.nanmean([entropy(np.histogram(Wilson(G,q=q).sample()[1],bins=len(G))[0]) for _ in range(reps)]) for q in beta_range]\n",
    "\n",
    "# entropy\n",
    "S = nq.entropy(L=L, beta_range=beta_range)\n",
    "# log partition function\n",
    "Tr = np.log([np.sum(np.exp(-beta*np.linalg.eigvalsh(L))) for beta in beta_range])"
   ]
  },
  {
   "cell_type": "code",
   "execution_count": null,
   "metadata": {},
   "outputs": [],
   "source": [
    "plt.semilogx(beta_range,entropy_tree_size,label='S(tree)')\n",
    "plt.semilogx(beta_range,S,label='$S(\\\\beta)$')"
   ]
  },
  {
   "cell_type": "code",
   "execution_count": null,
   "metadata": {},
   "outputs": [],
   "source": [
    "# plotting\n",
    "fig,ax = plt.subplots(nrows=1,ncols=2,figsize=(20,7))\n",
    "# ax[0].set_title('Entropy vs trace')\n",
    "# ax[0].semilogx(beta_range,S,label='$S(\\\\beta)$')\n",
    "# ax[0].semilogx(beta_range,Tr,label='$Z=Tr[exp(-\\\\beta L)]$')\n",
    "# ax[0].legend()\n",
    "# ax[0].grid()\n",
    "\n",
    "ax[0].semilogx(1/beta_range, num_trees, label='$s(q)=\\sum_i^n \\\\frac{q}{q+\\lambda_i}$')\n",
    "ax[0].semilogx(1/beta_range, num_trees_wilson, label='$E[R]$')\n",
    "ax[0].legend()\n",
    "ax[0].grid()\n",
    "ax[0].set_title('Trace estimators (n_samples=%d)' % reps)\n",
    "\n",
    "nx.draw(G,pos=nx.kamada_kawai_layout(G),node_size=10,node_color='black',edge_color='lightgray',ax=ax[1])\n",
    "ax[1].set_title('Graph')\n",
    "\n",
    "plt.savefig('trace_estimators.png',bbox_inches='tight')\n",
    "plt.show()"
   ]
  },
  {
   "cell_type": "code",
   "execution_count": null,
   "metadata": {},
   "outputs": [],
   "source": [
    "G=nx.random_regular_graph(40,50)\n",
    "#plt.semilogx(beta_range, [entropy(np.exp(-b*nx.laplacian_spectrum(G))) for b in beta_range])\n",
    "plt.plot(nx.laplacian_spectrum(G))"
   ]
  },
  {
   "cell_type": "code",
   "execution_count": null,
   "metadata": {},
   "outputs": [],
   "source": [
    "nx.laplacian_spectrum(G)"
   ]
  },
  {
   "cell_type": "code",
   "execution_count": null,
   "metadata": {},
   "outputs": [],
   "source": [
    "G = nx.Graph()\n",
    "G.add_edge(0,1)\n",
    "plt.semilogx(beta_range,[np.sum(np.exp(-b*nx.laplacian_spectrum(G) )) for b in beta_range])"
   ]
  },
  {
   "cell_type": "code",
   "execution_count": null,
   "metadata": {},
   "outputs": [],
   "source": [
    "n=5\n",
    "k=17\n",
    "tol=1E-5\n",
    "G = nx.ring_of_cliques(n,k)\n",
    "L = nx.laplacian_matrix(G).toarray()\n",
    "lambdai = np.linalg.eigvalsh(L)\n",
    "plt.plot(lambdai,'o')\n",
    "plt.grid()\n",
    "multiplicity_k = np.abs(lambdai-np.array([k]*len(L))) <= tol\n",
    "print(np.sum(multiplicity_k))\n",
    "print(G.number_of_edges())\n",
    "(k*(k-1)/2)*n+n"
   ]
  },
  {
   "cell_type": "code",
   "execution_count": null,
   "metadata": {},
   "outputs": [],
   "source": [
    "def ring_of_regular_graphs(n,l,d):\n",
    "    #n = 20\n",
    "    #d = n-1\n",
    "    #l = 2\n",
    "    G = nx.disjoint_union_all( [nx.random_regular_graph(d,n) for _ in range(l)])\n",
    "    for i in range(l):\n",
    "        G.add_edge(n-1,n)\n",
    "    return G\n",
    "\n",
    "S5 = nq.entropy( L=nx.laplacian_matrix(ring_of_regular_graphs(20,2,10)).toarray(), beta_range=beta_range)\n",
    "plt.semilogx(beta_range,S5,label='regular')\n",
    "S19 = nq.entropy( L=nx.laplacian_matrix(ring_of_regular_graphs(20,2,19)).toarray(), beta_range=beta_range)\n",
    "plt.semilogx(beta_range,S19,label='clique')"
   ]
  },
  {
   "cell_type": "code",
   "execution_count": null,
   "metadata": {},
   "outputs": [],
   "source": [
    "plt.plot(np.linalg.eigvalsh(nx.laplacian_matrix(ring_of_regular_graphs(20,2,12)).toarray()),'o')"
   ]
  },
  {
   "cell_type": "code",
   "execution_count": null,
   "metadata": {},
   "outputs": [],
   "source": [
    "plt.plot(np.array(range(3,20)),mult)\n",
    "plt.grid()"
   ]
  },
  {
   "cell_type": "code",
   "execution_count": null,
   "metadata": {},
   "outputs": [],
   "source": [
    "S = nq.entropy(L=L, beta_range=beta_range)\n",
    "plt.semilogx(beta_range,S,label='S')"
   ]
  },
  {
   "cell_type": "code",
   "execution_count": null,
   "metadata": {},
   "outputs": [],
   "source": [
    "plt.plot([ lambdai[k+1]/lambdai[k] for k in np.arange(1,len(lambdai)-1)])"
   ]
  },
  {
   "cell_type": "code",
   "execution_count": null,
   "metadata": {},
   "outputs": [],
   "source": [
    "Tr = np.array([ np.sum(np.exp(-beta*np.linalg.eigvalsh(L))) for beta in beta_range ])\n",
    "TrB0 = np.array([ np.sum(1/(beta+beta*np.linalg.eigvalsh(L))) for beta in beta_range ])\n",
    "\n",
    "plt.semilogx(beta_range,Tr-TrB0)"
   ]
  },
  {
   "cell_type": "code",
   "execution_count": null,
   "metadata": {},
   "outputs": [],
   "source": [
    "from scipy.linalg import expm, logm\n",
    "plt.semilogx(beta_range, [(np.trace(expm(-beta*L))) for beta in beta_range])"
   ]
  },
  {
   "cell_type": "code",
   "execution_count": null,
   "metadata": {},
   "outputs": [],
   "source": [
    "import sympy as sp\n",
    "l = [ sp.Symbol('lambda'+str(i),positive=True,real=True) for i in range(4)]\n",
    "beta = sp.Symbol('beta',positive=True)\n",
    "S = np.sum([sp.exp(-beta*l[i])*sp.log(sp.exp(-beta*l[i])) for i in range(4)])\n",
    "sp.diff(S,beta)"
   ]
  },
  {
   "cell_type": "code",
   "execution_count": null,
   "metadata": {},
   "outputs": [],
   "source": [
    "import scipy.special\n",
    "def nchoosek(n, k):\n",
    "    return scipy.special.binom(n, k)"
   ]
  },
  {
   "cell_type": "code",
   "execution_count": null,
   "metadata": {},
   "outputs": [],
   "source": [
    "import networkx as nx\n",
    "import numpy as np\n",
    "G = nx.karate_club_graph()\n",
    "A = nx.to_numpy_array(G)\n",
    "L = nx.laplacian_matrix(G).toarray()\n",
    "D = np.diag(A.sum(0))\n",
    "k = 2\n",
    "print(np.trace(np.linalg.matrix_power(L,k)))\n",
    "[ np.trace(np.linalg.matrix_power(D,i+1))*np.trace(np.linalg.matrix_power(A,k-i+1)) for i in np.arange(0,k+1)]"
   ]
  },
  {
   "cell_type": "code",
   "execution_count": null,
   "metadata": {},
   "outputs": [],
   "source": [
    "import sympy as sp\n",
    "sp.init_printing()\n",
    "A = np.reshape(sp.symbols('A_1:5_1:5'),[4,4])\n",
    "A = np.triu(A,1)\n",
    "A += A.T\n",
    "np.fill_diagonal(A,0)\n",
    "A\n",
    "D = np.diag(sp.symbols('k_1:5'))\n",
    "L = D-A\n",
    "sp.simplify(np.trace(np.linalg.matrix_power(D-A,3)))"
   ]
  },
  {
   "cell_type": "code",
   "execution_count": null,
   "metadata": {},
   "outputs": [],
   "source": [
    "L = (sp.MatrixSymbol('D',3,3)-sp.MatrixSymbol('A',3,3))\n",
    "sp.expand(L@L@L)\n"
   ]
  },
  {
   "cell_type": "code",
   "execution_count": null,
   "metadata": {},
   "outputs": [],
   "source": [
    "np.trace(A@A@A)"
   ]
  },
  {
   "cell_type": "code",
   "execution_count": null,
   "metadata": {},
   "outputs": [],
   "source": [
    "D@D@A - A@D@D"
   ]
  },
  {
   "cell_type": "code",
   "execution_count": null,
   "metadata": {},
   "outputs": [],
   "source": [
    "A"
   ]
  },
  {
   "cell_type": "code",
   "execution_count": null,
   "metadata": {},
   "outputs": [],
   "source": [
    "(A@D).T - D@A"
   ]
  },
  {
   "cell_type": "code",
   "execution_count": null,
   "metadata": {},
   "outputs": [],
   "source": [
    "(A@D).T - D.T@A.T"
   ]
  },
  {
   "cell_type": "code",
   "execution_count": null,
   "metadata": {},
   "outputs": [],
   "source": [
    "E = np.zeros([5,5])\n",
    "E[3,3]=1\n",
    "E"
   ]
  },
  {
   "cell_type": "code",
   "execution_count": null,
   "metadata": {},
   "outputs": [],
   "source": [
    "R=np.random.random([5,5])\n",
    "#R = R+R.T\n",
    "R"
   ]
  },
  {
   "cell_type": "code",
   "execution_count": null,
   "metadata": {},
   "outputs": [],
   "source": [
    "E@R.T@E"
   ]
  },
  {
   "cell_type": "code",
   "execution_count": null,
   "metadata": {},
   "outputs": [],
   "source": [
    "E@R - R@E"
   ]
  },
  {
   "cell_type": "code",
   "execution_count": null,
   "metadata": {},
   "outputs": [],
   "source": []
  }
 ],
 "metadata": {
  "kernelspec": {
   "display_name": "Python 3",
   "language": "python",
   "name": "python3"
  },
  "language_info": {
   "codemirror_mode": {
    "name": "ipython",
    "version": 3
   },
   "file_extension": ".py",
   "mimetype": "text/x-python",
   "name": "python",
   "nbconvert_exporter": "python",
   "pygments_lexer": "ipython3",
   "version": "3.5.2"
  }
 },
 "nbformat": 4,
 "nbformat_minor": 4
}
