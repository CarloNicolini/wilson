{
 "cells": [
  {
   "cell_type": "code",
   "execution_count": null,
   "metadata": {},
   "outputs": [],
   "source": [
    "#!/usr/bin/env python3\n",
    "#import numpy as np\n",
    "import networkx as nx\n",
    "import matplotlib.pyplot as plt\n",
    "import random\n",
    "import matplotlib\n",
    "\n",
    "from wilson2 import draw_sampling, Wilson, trace_estimator\n",
    "\n",
    "import sys\n",
    "sys.path.append('/home/carlo/workspace/networkqit')\n",
    "import networkqit as nq"
   ]
  },
  {
   "cell_type": "code",
   "execution_count": null,
   "metadata": {},
   "outputs": [],
   "source": [
    "def factorial(x):\n",
    "    if x==0 or x==1:\n",
    "        return 1\n",
    "    else:\n",
    "        return x*factorial(x-1)"
   ]
  },
  {
   "cell_type": "code",
   "execution_count": null,
   "metadata": {},
   "outputs": [],
   "source": [
    "import autograd\n",
    "import autograd.numpy as np\n",
    "\n",
    "from autograd import grad, value_and_grad, deriv\n",
    "from autograd.numpy.linalg import eigh, matrix_power, slogdet\n",
    "import networkx as nx\n",
    "import autograd.scipy\n",
    "import matplotlib.pyplot as plt\n",
    "from functools import partial\n",
    "\n",
    "G = nx.erdos_renyi_graph(128, 0.8)\n",
    "#G = nx.ring_of_cliques(5,10)\n",
    "A  = nx.to_numpy_matrix(G)\n",
    "D = np.asarray(np.diagflat(A.sum(0)))\n",
    "invD  = np.asarray(np.diagflat(1/A.sum(0)))\n",
    "n=nx.number_of_nodes(G)\n",
    "I = np.eye(n).astype(float)\n",
    "\n",
    "L = nx.laplacian_matrix(G).toarray()\n",
    "lambda_max = np.max(eigh(L)[0])\n",
    "\n",
    "order = 6\n",
    "beta_range = np.logspace(-3,3,100)\n",
    "\n",
    "lambdai = eigh(L)[0]\n",
    "\n",
    "def r(beta, order=10):\n",
    "    return np.sum([( (-1.0)**k/factorial(k) + (-1.0)**(k+1)/k)*(beta**k)*np.trace(matrix_power(L,k)) for k in range(3,order)])\n",
    "\n",
    "def Z(beta):\n",
    "    return np.sum(np.exp(-beta*eigh(L)[0]))\n",
    "    #return np.trace(scipy.linalg.expm(-beta*L))\n",
    "\n",
    "def logR(beta):\n",
    "    #return np.sum(np.log(eigh(I + beta*L)[0]))\n",
    "    #return np.trace(scipy.linalg.logm(np.eye(n) + beta*L))\n",
    "    return slogdet( np.eye(n) + beta*L )[1]\n",
    "\n",
    "def logChi(beta):\n",
    "    q= 1.0 / beta\n",
    "    #return np.sum(np.log(eigh(q*I + L)[0])) - n*np.log(q)\n",
    "    # alternative definitions\n",
    "    return autograd.numpy.linalg.slogdet(q * I + L)[1] - n * np.log(q)\n",
    "    #return np.trace(scipy.linalg.logm(q * I + L)) - n * np.log(q)\n",
    "\n",
    "def E(beta):\n",
    "    lambdai = eigh(L)[0]\n",
    "    lambdairho = np.exp(-beta*lambdai)\n",
    "    return np.sum(lambdai*lambdairho/np.sum(lambdairho))\n",
    "    #return np.trace(L@scipy.linalg.expm(-beta*L))/Z(beta)\n",
    "\n",
    "rbeta = np.asarray([r(beta) for beta in beta_range])\n",
    "Zbeta = np.asarray([Z(beta) for beta in beta_range])\n",
    "logChibeta = np.asarray([logChi(beta) for beta in beta_range])\n",
    "Ebeta = np.asarray([E(beta) for beta in beta_range])\n",
    "\n",
    "def dFdbeta(beta):\n",
    "    q = 1/beta\n",
    "    num = - n*(q**2)\n",
    "    den = -np.sum(lambdai) + n*(1-q)\n",
    "    return num/den"
   ]
  },
  {
   "cell_type": "code",
   "execution_count": null,
   "metadata": {},
   "outputs": [],
   "source": [
    "dZdBeta = grad(Z)\n",
    "dLogChidBeta = grad(logChi)\n",
    "dEbetadbeta = grad(E)\n",
    "\n",
    "def dFdbeta(beta):\n",
    "    q = 1/beta\n",
    "    num = - n*(q**2)\n",
    "    den = -np.sum(lambdai) + n*(1-q)\n",
    "    return num/den\n",
    "\n",
    "def Ewilson(beta):\n",
    "    q = 1/beta\n",
    "    sq = np.sum(q/(q+lambdai)) # expected number of roots\n",
    "    den = (n-logChi(beta)+r(beta))#np.sum(np.log(lambdai + q)) - n*(np.log(q) -1)\n",
    "    return q*(n-sq)/den\n",
    "Ewilsonbeta = np.asarray([Ewilson(beta) for beta in beta_range])"
   ]
  },
  {
   "cell_type": "code",
   "execution_count": null,
   "metadata": {},
   "outputs": [],
   "source": [
    "plt.figure(figsize=(7.5*1.61,7.5))\n",
    "plt.semilogx(beta_range, Zbeta, label='$Z=\\\\mathrm{Tr}[e^{-\\\\beta \\\\mathbf{L}}]$')\n",
    "plt.semilogx(beta_range, n-logChibeta + rbeta, label='$Z=n-\\\\log \\\\chi\\\\left(\\\\beta^{-1} \\\\right) + n\\\\log\\\\beta + r(\\\\beta)$')\n",
    "plt.grid(which='both',linestyle='dotted',alpha=0.8)\n",
    "plt.axvline(x=1/lambdai.max(), ymin=0, ymax=n, color='black', linestyle='dashed')\n",
    "plt.legend(fontsize=16,loc='best')\n",
    "plt.title('Partition function', fontname='Helvetica',fontsize=16)\n",
    "plt.text(x=1/lambdai.max()+0.01,y=2,s='$\\\\lambda_{max}^{-1}$',fontsize=16)\n",
    "plt.xlabel('$\\\\beta$', fontsize=16, fontname='Helvetica')\n",
    "plt.xticks(fontsize=14, fontname='Helvetica')\n",
    "plt.yticks(fontsize=14, fontname='Helvetica')\n",
    "plt.ylim([0,n])\n",
    "#plt.savefig('z_vs_approx.png', dpi=200, bbox_inches='tight')"
   ]
  },
  {
   "cell_type": "code",
   "execution_count": null,
   "metadata": {},
   "outputs": [],
   "source": [
    "plt.figure(figsize=(7.5*1.61,7.5))\n",
    "plt.semilogx(beta_range, -np.log(Zbeta), label='$F=-\\\\log(Z)$')\n",
    "plt.semilogx(beta_range, -np.log(n-logChibeta + rbeta) , label='$\\\\hat{F} = -\\\\log(n-\\\\log\\\\chi + r(\\\\beta))$')\n",
    "plt.grid(which='both',linestyle='dotted',alpha=0.8)\n",
    "plt.axvline(x=1/lambdai.max(), ymin=0, ymax=n, color='black', linestyle='dashed')\n",
    "plt.legend(fontsize=16,loc='best')\n",
    "plt.title('Free energy', fontname='Helvetica',fontsize=16)\n",
    "#plt.text(x=1/lambdai.max()+0.01,y=2,s='$\\\\lambda_{max}^{-1}$',fontsize=16)\n",
    "plt.xlabel('$\\\\beta$', fontsize=16, fontname='Helvetica')\n",
    "plt.xticks(fontsize=14, fontname='Helvetica')\n",
    "plt.yticks(fontsize=14, fontname='Helvetica')\n",
    "plt.ylim([-np.log(n)*1.01,0.1])\n",
    "#plt.savefig('z_vs_approx.png', dpi=200, bbox_inches='tight')"
   ]
  },
  {
   "cell_type": "code",
   "execution_count": null,
   "metadata": {},
   "outputs": [],
   "source": [
    "E_as_deriv = grad(lambda x : -np.log(Z(x)))\n",
    "E_as_deriv_beta = np.asarray([E_as_deriv(beta) for beta in beta_range])\n",
    "\n",
    "E_as_deriv_approx = grad(lambda x : -np.log(n-logChi(x) + r(x) ))\n",
    "E_as_deriv_beta_approx = np.asarray([E_as_deriv_approx(beta) for beta in beta_range])\n",
    "\n",
    "plt.figure(figsize=(7.5*1.61,7.5))\n",
    "plt.semilogx(beta_range, Ebeta, label='$E=-\\\\mathrm{Tr}[\\\\rho \\\\mathbf{L}]$')\n",
    "#plt.semilogx(beta_range, E_as_deriv_beta, label='$E=-\\\\frac{\\\\partial \\\\log Z}{\\\\partial \\\\beta}$', linestyle='dashed') # exactly the same as Tr[rho L]\n",
    "plt.semilogx(beta_range, E_as_deriv_beta_approx, label='$E=-\\\\frac{\\\\partial \\\\log(n-\\\\log \\\\chi)}{\\\\partial \\\\beta}$')\n",
    "plt.semilogx(beta_range, Ewilsonbeta, label='$\\\\hat{E}_{wilson}$')\n",
    "#plt.semilogx(beta_range, sbeta, label='$s(\\\\beta)$')\n",
    "plt.grid(which='both',linestyle='dotted',alpha=0.8)\n",
    "plt.axvline(x=1/lambdai.max(), ymin=0, ymax=n, color='black', linestyle='dashed')\n",
    "plt.legend(fontsize=16,loc='best')\n",
    "plt.title('Energy', fontname='Helvetica',fontsize=16)\n",
    "plt.text(x=1/lambdai.max() + 1E-2, y=0.1, s='$\\\\lambda_{max}^{-1}$',fontsize=16)\n",
    "plt.xlabel('$\\\\beta$', fontsize=16, fontname='Helvetica')\n",
    "plt.xticks(fontsize=14, fontname='Helvetica')\n",
    "plt.yticks(fontsize=14, fontname='Helvetica')\n",
    "#plt.xlim([1E-3,1E0])\n",
    "#plt.ylim([0,Ebeta.max()*1.01])"
   ]
  },
  {
   "cell_type": "code",
   "execution_count": null,
   "metadata": {},
   "outputs": [],
   "source": [
    "import sympy as sp\n",
    "from sympy.abc import n,beta,q\n",
    "import numpy as np\n",
    "sp.init_printing()\n",
    "lamda = sp.symbols('lamda_0:4')\n",
    "spZ = np.sum([sp.exp(-beta*l) for l in lamda])\n",
    "spF = -sp.log(spZ)\n",
    "\n",
    "spLogChi = np.sum([sp.log(1/beta + l) for l in lamda]) + n*sp.log(beta)\n",
    "spFApproxZ = -sp.log(n - spLogChi )\n",
    "\n",
    "sp.simplify(sp.diff(spFApproxZ,beta).subs(beta,1/q))"
   ]
  },
  {
   "cell_type": "code",
   "execution_count": null,
   "metadata": {},
   "outputs": [],
   "source": [
    "sp.lambdify(expr=sp.simplify(sp.diff(-sp.log(spApproxZ),beta)),args=(beta,lamda))"
   ]
  },
  {
   "cell_type": "code",
   "execution_count": null,
   "metadata": {},
   "outputs": [],
   "source": []
  }
 ],
 "metadata": {
  "kernelspec": {
   "display_name": "Python 3",
   "language": "python",
   "name": "python3"
  },
  "language_info": {
   "codemirror_mode": {
    "name": "ipython",
    "version": 3
   },
   "file_extension": ".py",
   "mimetype": "text/x-python",
   "name": "python",
   "nbconvert_exporter": "python",
   "pygments_lexer": "ipython3",
   "version": "3.6.8"
  }
 },
 "nbformat": 4,
 "nbformat_minor": 4
}
