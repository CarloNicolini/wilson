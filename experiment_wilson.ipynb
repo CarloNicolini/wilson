{
 "cells": [
  {
   "cell_type": "code",
   "execution_count": null,
   "metadata": {},
   "outputs": [],
   "source": [
    "#!/usr/bin/env python3\n",
    "\"\"\"\n",
    "Wilson's algorithm for unweighted STs.\n",
    "\"\"\"\n",
    "\n",
    "import numpy as np\n",
    "import networkx as nx\n",
    "import sys\n",
    "sys.path.append('/home/carlo/workspace/networkqit')\n",
    "import matplotlib.pyplot as plt\n",
    "import networkqit as nq\n",
    "import random\n",
    "import matplotlib\n",
    "\n",
    "class Wilson:\n",
    "\n",
    "    def __init__(self, G, q):\n",
    "        self.G = G\n",
    "        self.H = nx.DiGraph()\n",
    "        self.nv = G.number_of_nodes()\n",
    "        self.q = q\n",
    "        \n",
    "        # set edge attribute weight with weight 1\n",
    "        self.H.add_weighted_edges_from([(u,v,1.0) for u,v in G.edges()])\n",
    "        self.H.add_weighted_edges_from([(v,u,1.0) for u,v in G.edges()])\n",
    "        \n",
    "        # add the magic link from all nodes to n+1 with weight 1/q\n",
    "        #self.H.add_weighted_edges_from([(self.nv,n, q) for n in G.nodes()])\n",
    "        self.H.add_weighted_edges_from([(n,self.nv, 1/q) for n in G.nodes()])\n",
    "        #print(np.asarray([(u,v,w['weight']) for u,v,w in self.H.edges(data=True)]).reshape([60,3]))\n",
    "\n",
    "    # Choose an edge from v's adjacency list (randomly)\n",
    "    def random_successor(self, v):\n",
    "        nei = list(self.H.neighbors(v))\n",
    "        weight = np.array([ self.H.get_edge_data(v,u)['weight'] for u in nei], dtype=float)\n",
    "        weight /= weight.sum()\n",
    "        return np.random.choice(nei, p = weight)\n",
    "    \n",
    "    def sample(self):\n",
    "        intree = [False] * (self.nv+1)\n",
    "        successor = {}\n",
    "        # put the additional node\n",
    "        F = nx.DiGraph()\n",
    "        self.roots = set()\n",
    "        root = self.nv\n",
    "        intree[root] = True\n",
    "        successor[root] = None\n",
    "\n",
    "        from random import shuffle\n",
    "        l = [root] + list(range(self.nv))\n",
    "        for i in l:\n",
    "            u = i\n",
    "            while not intree[u]:\n",
    "                successor[u] = self.random_successor(u)\n",
    "                if successor[u] == self.nv: # if the last node of the trajectory is ∆ add it to the roots\n",
    "                    self.roots.add(u)\n",
    "                u = successor[u]\n",
    "            u = i # come back to the node it started from\n",
    "            # remove self-loops\n",
    "            while not intree[u]:\n",
    "                intree[u] = True\n",
    "                #if u in successor:\n",
    "                u = successor[u]\n",
    "\n",
    "        # Creates the random forest\n",
    "        for i in range(self.nv):\n",
    "            if i in successor.keys():\n",
    "                neighbor = successor[i]\n",
    "                if neighbor is not None:\n",
    "                    F.add_edge(i,neighbor)\n",
    "        \n",
    "        if self.nv in self.roots:\n",
    "            self.roots.remove(self.nv)\n",
    "        # remove the magic node, together with all its links\n",
    "        F.remove_node(F.number_of_nodes() - 1)\n",
    "        #F.remove_edges_from([(u,self.nv,1.0) for u in F.nodes()])\n",
    "        # save the leaves\n",
    "        self.leaves = [n for n in F.nodes() if F.degree(n)==1]\n",
    "        return F, list(self.roots)\n",
    "    \n",
    "    def s(self):\n",
    "        L = nx.laplacian_matrix(self.G).toarray()\n",
    "        lambdai = np.linalg.eigvalsh(L)\n",
    "        return (self.q/(self.q + lambdai)).sum()\n",
    "\n",
    "def to_networkx(G, T, root_nodes=None):\n",
    "    T = nx.Graph(T)\n",
    "    n_trees = nx.number_connected_components(T)\n",
    "    pos = nx.kamada_kawai_layout(G)\n",
    "    if root_nodes is not None:\n",
    "        nx.draw_networkx_nodes(G, pos=pos, nodelist=root_nodes, node_color='r',node_size=25,linew_width=1)\n",
    "        #nx.draw_networkx_labels(G, pos=pos, labels={i: i for i in range(G.number_of_nodes())})\n",
    "    nx.draw_networkx_nodes(G, pos=pos, node_color='k', node_size=3, lines_width=0.1)\n",
    "    nx.draw_networkx_edges(G, pos, edge_style='dashed', alpha=0.1, edge_color='k', edge_width=0.01)\n",
    "\n",
    "    cmap = matplotlib.cm.get_cmap('viridis')\n",
    "    for i, t in enumerate(nx.connected_component_subgraphs(T)):\n",
    "        e = nx.number_of_edges(t)\n",
    "        #print('|V|=%d |E|=%d' % (t.number_of_nodes(),t.number_of_edges()))\n",
    "        nx.draw_networkx_edges(t, pos, width=2, edge_cmap=plt.cm.Set2, edge_color=[cmap(float(i)/n_trees)]*e )\n",
    "    plt.axis('off')\n",
    "    #plt.show()\n",
    "    \n",
    "if __name__=='__main__':\n",
    "    reps = 10\n",
    "    G = nx.grid_2d_graph(20, 20, periodic=False)\n",
    "    #G = nx.path_graph(100)\n",
    "    G = nx.from_numpy_array(nx.to_numpy_array(G))\n",
    "    \n",
    "    #G = nx.planted_partition_graph(4,20,1,0.01)\n",
    "    beta_range = np.logspace(-3, 3, 50)\n",
    "\n",
    "    L = nx.laplacian_matrix(G).toarray()\n",
    "\n",
    "    S = nq.entropy(L=L, beta_range=beta_range)\n",
    "    Tr = np.log([np.sum(np.exp(-beta*np.linalg.eigvalsh(L))) for beta in beta_range])\n",
    "\n",
    "\n",
    "    StreeQuenched = np.mean(np.log([[len(Wilson(G,q=q).sample()[1]) for _ in range(reps)] for q in beta_range]),1)\n",
    "    #StreeAnnealed = np.log(np.mean(([[len(Wilson(G,q=q).sample()[1]) for q in beta_range] for _ in range(reps)]),0))\n",
    "    plt.semilogx(beta_range, StreeQuenched, color='green', label='<log |R|>')\n",
    "    #plt.semilogx(beta_range, StreeAnnealed, color='purple', label='log (<|R|>)')\n",
    "    plt.semilogx(beta_range, np.log([Wilson(G,q=1/q).s() for q in beta_range]), color='magenta', label='stieltjes s(q)')\n",
    "    plt.semilogx(beta_range, S, color='blue', label='S(\\\\rho)')\n",
    "    #plt.semilogx(beta_range, Tr, color='red', label='Z')\n",
    "    plt.legend()\n",
    "    # plt.savefig('relation_entropy_random_forest.svg')\n",
    "    plt.show()\n",
    "    \n",
    "    q = 10\n",
    "    for _ in range(1):\n",
    "        W = Wilson(G, q=q)\n",
    "        F,roots = W.sample()\n",
    "        print(W.s(), np.mean([len(Wilson(G, q=1/q).sample()[1]) for _ in range(reps)]) )\n",
    "\n",
    "        to_networkx(G, F, roots)\n",
    "        #plt.savefig('wilson_ring_of_cliques_5_10_beta_1E9.png')\n",
    "        #print([x for x in F.nodes() if F.degree(x)==1])\n",
    "        plt.show()"
   ]
  },
  {
   "cell_type": "code",
   "execution_count": null,
   "metadata": {},
   "outputs": [],
   "source": [
    "# Controllare se beta è collegato alla massima distanza delle foglie dal nodo root\n",
    "if __name__=='__main__':\n",
    "    reps = 1\n",
    "    #G = nx.grid_2d_graph(20, 20, periodic=False)\n",
    "    G = nx.ring_of_cliques(5,10)\n",
    "    G = nx.path_graph(20)\n",
    "    #G = nx.path_graph(100)\n",
    "    #G = nx.from_numpy_array(nx.to_numpy_array(G))\n",
    "    \n",
    "    G = nx.complete_graph(10)\n",
    "    n = G.number_of_nodes()\n",
    "    beta_range = np.logspace(-3, 1, 100)\n",
    "\n",
    "    L = nx.laplacian_matrix(G).toarray()\n",
    "\n",
    "    Z = [np.sum(np.exp(-beta*np.linalg.eigvalsh(L))) for beta in beta_range]\n",
    "\n",
    "    #R_minus_one_over_beta = [np.linalg.det(np.eye(n)+beta*L) for beta in beta_range]\n",
    "    logR = np.asarray([np.linalg.slogdet(np.eye(n)+beta*L)[1] for beta in beta_range])\n",
    "    \n",
    "    lambda_max = np.linalg.eigvalsh(L).max()\n",
    "    r = np.array([np.sum([( 1.0/k - 1.0/factorial(k))*(beta**k)*np.trace(np.linalg.matrix_power(L,k)) for k in range(3,10)]) for beta in beta_range])\n",
    "    S = nq.entropy(L=L,beta_range=beta_range)\n",
    "    plt.figure(figsize=(18,5))\n",
    "    plt.semilogx(beta_range, Z)\n",
    "    #plt.semilogx(beta_range, n - np.log(R_minus_one_over_beta))\n",
    "    plt.semilogx(beta_range, n - logR)\n",
    "    plt.ylim([0,n])\n",
    "    plt.axvline(x=1/lambda_max,ymin=0,ymax=n,color='k',linestyle='dashed') # radius of convergence of beta\n",
    "    plt.legend(['Z','$n-log(R(-1/\\\\beta))$'])\n",
    "    plt.grid(which='both')\n",
    "    #plt.savefig('ihara.png',bbox_inches='tight')\n",
    "    plt.title('Partition function vs approximation')\n",
    "    plt.figure(figsize=(18,5))\n",
    "    plt.semilogx(beta_range,S,label='S')\n",
    "    #betaE = [beta*np.trace(np.linalg.inv(beta*I+L))/(n-np.linalg.slogdet(np.eye(n)+beta*L)[1]) for beta in beta_range]\n",
    "    betaE  = np.asarray([ beta*np.mean([len(Wilson(G,beta).sample()[1]) for _ in range(10)]) for beta in beta_range])/Z\n",
    "    #np.log(n-logR) + E\n",
    "    Zapprox = n-logR\n",
    "    plt.semilogx(beta_range, np.log(Z) - beta_range*betaE, label='Sapprox')\n",
    "    plt.ylim([0,np.log(len(G))])\n",
    "    plt.legend()\n",
    "    plt.grid(which='both')\n",
    "    plt.title('Spectral entropy vs approximation')\n",
    "    plt.show()"
   ]
  },
  {
   "cell_type": "code",
   "execution_count": 79,
   "metadata": {},
   "outputs": [],
   "source": [
    "import networkx as nx\n",
    "import numpy as np\n",
    "import scipy\n",
    "factorial = scipy.math.factorial\n",
    "import matplotlib.pyplot as plt\n",
    "\n",
    "#G = nx.erdos_renyi_graph(64,0.8)\n",
    "G = nx.ring_of_cliques(5,20)\n",
    "A  = nx.to_numpy_matrix(G)\n",
    "D = np.asarray(np.diagflat(A.sum(0)))\n",
    "invD  = np.asarray(np.diagflat(1/A.sum(0)))\n",
    "n=nx.number_of_nodes(G)\n",
    "I = np.eye(n)\n",
    "\n",
    "L = nx.laplacian_matrix(G).toarray()\n",
    "L = nx.normalized_laplacian_matrix(G).toarray()\n",
    "#L = invD@L\n",
    "\n",
    "#H = -L\n",
    "order=6\n",
    "rbeta = np.asarray([np.sum([( (-1.0)**k/factorial(k) + (-1.0)**(k+1)/k)*(beta**k)*np.trace(np.linalg.matrix_power(L,k)) for k in range(3,order)]) for beta in beta_range])\n",
    "\n",
    "beta_range = np.logspace(-3,3,100)\n",
    "lambdai = np.linalg.eigvalsh(L)\n",
    "Z = np.asarray([np.sum(np.exp(-beta*lambdai)) for  beta in beta_range])\n",
    "E = np.asarray([np.sum(lambdai*np.exp(-beta*lambdai)) for beta in beta_range]) / Z\n",
    "logR = np.asarray([np.linalg.slogdet( np.eye(n) + beta*L )[1] for beta in beta_range])\n",
    "Eapprox = np.asarray([np.sum(lambdai/(beta*lambdai + 1)) for beta in beta_range])/(n-logR)\n",
    "Eapprox2 = np.asarray([np.sum(lambdai/(beta*lambdai + 1)) for beta in beta_range])/(n)"
   ]
  },
  {
   "cell_type": "code",
   "execution_count": 80,
   "metadata": {},
   "outputs": [
    {
     "data": {
      "text/plain": [
       "(0, 100)"
      ]
     },
     "execution_count": 80,
     "metadata": {},
     "output_type": "execute_result"
    },
    {
     "data": {
      "image/png": "[encoded data removed]",
      "text/plain": [
       "<Figure size 1440x576 with 1 Axes>"
      ]
     },
     "metadata": {
      "needs_background": "light"
     },
     "output_type": "display_data"
    }
   ],
   "source": [
    "plt.figure(figsize=(20,8))\n",
    "plt.semilogx(beta_range,Z,label='Z')\n",
    "plt.semilogx(beta_range,n - logR ,label='n-logR')\n",
    "plt.semilogx(beta_range,n - logR - rbeta, label='n-logR - rbeta')\n",
    "plt.axvline(x=0.5,ymin=0,ymax=n,color='black',linestyle='dashed')\n",
    "plt.ylim([0,n])"
   ]
  },
  {
   "cell_type": "code",
   "execution_count": 72,
   "metadata": {},
   "outputs": [
    {
     "data": {
      "text/plain": [
       "[<matplotlib.lines.Line2D at 0x7fec8f8327b8>]"
      ]
     },
     "execution_count": 72,
     "metadata": {},
     "output_type": "execute_result"
    },
    {
     "data": {
      "image/png": "[encoded data removed]",
      "text/plain": [
       "<Figure size 432x288 with 1 Axes>"
      ]
     },
     "metadata": {
      "needs_background": "light"
     },
     "output_type": "display_data"
    }
   ],
   "source": [
    "plt.loglog(beta_range,rbeta)"
   ]
  },
  {
   "cell_type": "code",
   "execution_count": 70,
   "metadata": {},
   "outputs": [
    {
     "data": {
      "text/plain": [
       "(0, 0.9999476194797436)"
      ]
     },
     "execution_count": 70,
     "metadata": {},
     "output_type": "execute_result"
    },
    {
     "data": {
      "image/png": "[encoded data removed]",
      "text/plain": [
       "<Figure size 432x288 with 1 Axes>"
      ]
     },
     "metadata": {
      "needs_background": "light"
     },
     "output_type": "display_data"
    }
   ],
   "source": [
    "plt.semilogx(beta_range,E)\n",
    "plt.semilogx(beta_range,Eapprox)\n",
    "#plt.semilogx(beta_range,Eapprox2)\n",
    "#plt.xlim([1E-3,1E-1])\n",
    "plt.ylim([0,E.max()])"
   ]
  },
  {
   "cell_type": "code",
   "execution_count": 194,
   "metadata": {},
   "outputs": [
    {
     "name": "stderr",
     "output_type": "stream",
     "text": [
      "/usr/local/lib/python3.6/dist-packages/autograd/tracer.py:48: RuntimeWarning: overflow encountered in exp\n",
      "  return f_raw(*args, **kwargs)\n",
      "/usr/local/lib/python3.6/dist-packages/networkqit/infotheory/density2.py:113: RuntimeWarning: invalid value encountered in double_scalars\n",
      "  entropy[i] = np.log(np.abs(Z)) + b * (lambd * lrho).sum() / Z\n"
     ]
    },
    {
     "data": {
      "text/plain": [
       "[<matplotlib.lines.Line2D at 0x7fe84ecd26d8>]"
      ]
     },
     "execution_count": 194,
     "metadata": {},
     "output_type": "execute_result"
    },
    {
     "data": {
      "image/png": "[encoded data removed]",
      "text/plain": [
       "<Figure size 432x288 with 1 Axes>"
      ]
     },
     "metadata": {
      "needs_background": "light"
     },
     "output_type": "display_data"
    }
   ],
   "source": [
    "import networkqit as nq\n",
    "S = nq.entropy(L=H, beta_range=beta_range)\n",
    "plt.semilogx(beta_range, S)\n",
    "plt.semilogx(beta_range, np.log(Z) + beta_range*Eapprox)\n",
    "#plt.axvline(x=1/lambdai.max(),ymin=0,ymax=np.log(n))\n",
    "#plt.xlim([1E-3,1E-1])"
   ]
  },
  {
   "cell_type": "code",
   "execution_count": null,
   "metadata": {},
   "outputs": [],
   "source": [
    "Z = np.asarray([np.exp(-beta*np.linalg.eigvalsh(L)).sum() for beta in beta_range])\n",
    "logR = np.asarray([np.linalg.slogdet(np.eye(n) + beta*L)[1] for beta in beta_range])\n",
    "logRhat = np.asarray([np.linalg.slogdet(np.eye(n-1) + beta*Lhat)[1] for beta in beta_range])\n",
    "rbeta = np.asarray([np.sum([(1.0/k - 1.0/fact(k))*(beta**k)*np.trace(np.linalg.matrix_power(L,k)) for k in range(3,10)]) for beta in beta_range])\n",
    "plt.semilogx(beta_range,Z,  label='Z')\n",
    "plt.semilogx(beta_range, n - logR , label='n-logR')\n",
    "#plt.semilogx(beta_range, n - logR - rbeta, label='n-logR + r_beta')\n",
    "lambdaL = np.linalg.eigvalsh(L)\n",
    "plt.axvline(x=1/lambdaL.max(),ymin=0,ymax=n,linestyle='dashed',color='black')\n",
    "plt.ylim([0,n])\n",
    "plt.legend()"
   ]
  },
  {
   "cell_type": "code",
   "execution_count": null,
   "metadata": {},
   "outputs": [],
   "source": [
    "E = "
   ]
  },
  {
   "cell_type": "code",
   "execution_count": null,
   "metadata": {},
   "outputs": [],
   "source": [
    "plt.semilogx(beta_range,logR-logRhat)"
   ]
  },
  {
   "cell_type": "code",
   "execution_count": null,
   "metadata": {},
   "outputs": [],
   "source": [
    "plt.semilogx(beta_range, n - logR, label='n-logR')"
   ]
  },
  {
   "cell_type": "code",
   "execution_count": null,
   "metadata": {},
   "outputs": [],
   "source": [
    "I = np.eye(len(L))\n",
    "\n",
    "np.trace(np.linalg.inv(beta*I + L)@L) - np.trace(L@np.linalg.inv(beta*I + L)) "
   ]
  },
  {
   "cell_type": "code",
   "execution_count": null,
   "metadata": {},
   "outputs": [],
   "source": [
    "l = np.linalg.eigvalsh(L)"
   ]
  },
  {
   "cell_type": "code",
   "execution_count": null,
   "metadata": {},
   "outputs": [],
   "source": []
  }
 ],
 "metadata": {
  "kernelspec": {
   "display_name": "Python 3",
   "language": "python",
   "name": "python3"
  },
  "language_info": {
   "codemirror_mode": {
    "name": "ipython",
    "version": 3
   },
   "file_extension": ".py",
   "mimetype": "text/x-python",
   "name": "python",
   "nbconvert_exporter": "python",
   "pygments_lexer": "ipython3",
   "version": "3.6.7"
  }
 },
 "nbformat": 4,
 "nbformat_minor": 4
}
