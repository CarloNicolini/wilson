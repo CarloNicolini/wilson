{
 "cells": [
  {
   "cell_type": "code",
   "execution_count": null,
   "metadata": {},
   "outputs": [],
   "source": [
    "#!/usr/bin/env python3\n",
    "import numpy as np\n",
    "import networkx as nx\n",
    "import matplotlib.pyplot as plt\n",
    "import random\n",
    "import matplotlib\n",
    "\n",
    "from wilson2 import draw_sampling, Wilson, trace_estimator\n",
    "\n",
    "import sys\n",
    "sys.path.append('/home/carlo/workspace/networkqit')\n",
    "import networkqit as nq"
   ]
  },
  {
   "cell_type": "code",
   "execution_count": null,
   "metadata": {},
   "outputs": [],
   "source": [
    "def factorial(x):\n",
    "    if x==0 or x==1:\n",
    "        return 1\n",
    "    else:\n",
    "        return x*factorial(x-1)"
   ]
  },
  {
   "cell_type": "code",
   "execution_count": null,
   "metadata": {},
   "outputs": [],
   "source": [
    "import networkx as nx\n",
    "import autograd.numpy as np\n",
    "from autograd import grad\n",
    "import scipy\n",
    "import matplotlib.pyplot as plt\n",
    "from functools import partial\n",
    "\n",
    "#G = nx.erdos_renyi_graph(64,0.8)\n",
    "G = nx.ring_of_cliques(5,10)\n",
    "A  = nx.to_numpy_matrix(G)\n",
    "D = np.asarray(np.diagflat(A.sum(0)))\n",
    "invD  = np.asarray(np.diagflat(1/A.sum(0)))\n",
    "n=nx.number_of_nodes(G)\n",
    "I = np.eye(n)\n",
    "\n",
    "L = nx.laplacian_matrix(G).toarray()\n",
    "lambda_max = np.linalg.eigvalsh(L).max()\n",
    "\n",
    "order = 3\n",
    "beta_range = np.logspace(-3,3,100)\n",
    "\n",
    "lambdai = np.linalg.eigvalsh(L)\n",
    "\n",
    "def r(beta, L, order=10):\n",
    "    return np.sum([( (-1.0)**k/factorial(k) + (-1.0)**(k+1)/k)*(beta**k)*np.trace(np.linalg.matrix_power(L,k)) for k in range(3,order)])\n",
    "\n",
    "def Z(beta, L):\n",
    "    return np.trace(scipy.linalg.expm(-beta*L))\n",
    "\n",
    "def logR(beta,L):\n",
    "    #return np.trace(scipy.linalg.logm(np.eye(n) + beta*L))\n",
    "    return np.linalg.slogdet( np.eye(n) + beta*L )[1]\n",
    "\n",
    "def logChi(beta,L):\n",
    "    q= 1.0 / beta\n",
    "    #return np.linalg.slogdet(q * I + L)[1] - n * np.log(q)\n",
    "    return np.trace(scipy.linalg.logm(q * I + L)) - n * np.log(q)\n",
    "\n",
    "def E(beta,L):\n",
    "    return np.trace(L@scipy.linalg.expm(-beta*L))/Z(beta,L)\n",
    "\n",
    "rbeta = np.asarray([r(beta,L) for beta in beta_range])\n",
    "Zbeta = np.asarray([Z(beta,L) for beta in beta_range])\n",
    "logChibeta = np.asarray([logChi(beta,L) for beta in beta_range])\n",
    "Ebeta = np.asarray([E(beta,L) for beta in beta_range])"
   ]
  },
  {
   "cell_type": "code",
   "execution_count": null,
   "metadata": {},
   "outputs": [],
   "source": [
    "plt.figure(figsize=(7.5*1.61,7.5))\n",
    "plt.semilogx(beta_range, Zbeta, label='$Z=\\\\mathrm{Tr}[e^{-\\\\beta \\\\mathbf{L}}]$')\n",
    "plt.semilogx(beta_range, n-logChibeta + rbeta, label='$Z=n-\\\\log \\\\chi\\\\left(\\\\beta^{-1} \\\\right) + n\\\\log\\\\beta + r(\\\\beta)$')\n",
    "plt.grid(which='both',linestyle='dotted',alpha=0.8)\n",
    "plt.axvline(x=1/lambdai.max(), ymin=0, ymax=n, color='black', linestyle='dashed')\n",
    "plt.legend(fontsize=16,loc='best')\n",
    "plt.title('Partition function', fontname='Helvetica',fontsize=16)\n",
    "plt.text(x=1/lambdai.max()+0.01,y=2,s='$\\\\lambda_{max}^{-1}$',fontsize=16)\n",
    "plt.xlabel('$\\\\beta$', fontsize=16, fontname='Helvetica')\n",
    "plt.xticks(fontsize=14, fontname='Helvetica')\n",
    "plt.yticks(fontsize=14, fontname='Helvetica')\n",
    "plt.ylim([0,n])\n",
    "#plt.savefig('z_vs_approx.png', dpi=200, bbox_inches='tight')"
   ]
  },
  {
   "cell_type": "code",
   "execution_count": null,
   "metadata": {},
   "outputs": [],
   "source": [
    "#Eapprox3 = np.asarray([-(1/beta)*np.sum(beta/(1+lambdai))/(n-logChi[i]) for i,beta in enumerate(beta_range)])\n",
    "Eapproxbeta =  np.asarray([1/Z(beta,L)*np.trace(np.linalg.inv(I+beta*L)@L - I/beta) for beta in beta_range])\n",
    "plt.figure(figsize=(7.5*1.61,7.5))\n",
    "plt.semilogx(beta_range, Ebeta, label='$E=\\\\mathrm{Tr}[\\\\rho \\\\mathbf{L}]$')\n",
    "plt.semilogx(beta_range, Eapproxbeta, label='$E=\\\\mathrm{Tr}[\\\\rho \\\\mathbf{L}]$')\n",
    "plt.grid(which='both',linestyle='dotted',alpha=0.8)\n",
    "plt.axvline(x=1/lambdai.max(), ymin=0, ymax=n, color='black', linestyle='dashed')\n",
    "plt.legend(fontsize=16,loc='best')\n",
    "plt.title('Energy', fontname='Helvetica',fontsize=16)\n",
    "plt.text(x=1/lambdai.max()+1E-2,y=0.1,s='$\\\\lambda_{max}^{-1}$',fontsize=16)\n",
    "plt.xlabel('$\\\\beta$', fontsize=16, fontname='Helvetica')\n",
    "plt.xticks(fontsize=14, fontname='Helvetica')\n",
    "plt.yticks(fontsize=14, fontname='Helvetica')\n",
    "#plt.xlim([1E-3,1E0])\n",
    "#plt.ylim([Ebeta.min(),Ebeta.max()])"
   ]
  },
  {
   "cell_type": "code",
   "execution_count": null,
   "metadata": {},
   "outputs": [],
   "source": []
  }
 ],
 "metadata": {
  "kernelspec": {
   "display_name": "Python 3",
   "language": "python",
   "name": "python3"
  },
  "language_info": {
   "codemirror_mode": {
    "name": "ipython",
    "version": 3
   },
   "file_extension": ".py",
   "mimetype": "text/x-python",
   "name": "python",
   "nbconvert_exporter": "python",
   "pygments_lexer": "ipython3",
   "version": "3.5.2"
  }
 },
 "nbformat": 4,
 "nbformat_minor": 4
}
